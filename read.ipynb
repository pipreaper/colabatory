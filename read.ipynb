{
  "nbformat": 4,
  "nbformat_minor": 0,
  "metadata": {
    "colab": {
      "name": "Copy of Copy of Copy of Copy of Copy of Untitled0.ipynb",
      "provenance": [],
      "collapsed_sections": [],
      "authorship_tag": "ABX9TyPMQl3aflm1WfXzZUFPwE2D",
      "include_colab_link": true
    },
    "kernelspec": {
      "name": "python3",
      "display_name": "Python 3"
    }
  },
  "cells": [
    {
      "cell_type": "markdown",
      "metadata": {
        "id": "view-in-github",
        "colab_type": "text"
      },
      "source": [
        "<a href=\"https://colab.research.google.com/github/pipreaper/colabatory/blob/master/read.ipynb\" target=\"_parent\"><img src=\"https://colab.research.google.com/assets/colab-badge.svg\" alt=\"Open In Colab\"/></a>"
      ]
    },
    {
      "cell_type": "code",
      "metadata": {
        "id": "uWIeLa4MdQ9d",
        "colab_type": "code",
        "colab": {}
      },
      "source": [
        "# install dependancies\n",
        "import numpy as np\n",
        "import pandas as pd\n",
        "from os import listdir\n",
        "from os import chdir\n",
        "import matplotlib.pyplot as plt\n",
        "plt.style.use('bmh')"
      ],
      "execution_count": null,
      "outputs": []
    },
    {
      "cell_type": "code",
      "metadata": {
        "id": "RAGy4-Cwhi2I",
        "colab_type": "code",
        "colab": {
          "base_uri": "https://localhost:8080/",
          "height": 33
        },
        "outputId": "e2f094de-2b69-47aa-c6d4-b5b6c4bbece1"
      },
      "source": [
        "from google.colab import drive\n",
        "drive.mount('/content/gdrive')"
      ],
      "execution_count": null,
      "outputs": [
        {
          "output_type": "stream",
          "text": [
            "Drive already mounted at /content/gdrive; to attempt to forcibly remount, call drive.mount(\"/content/gdrive\", force_remount=True).\n"
          ],
          "name": "stdout"
        }
      ]
    },
    {
      "cell_type": "code",
      "metadata": {
        "id": "ZernW0nLoE0W",
        "colab_type": "code",
        "colab": {
          "base_uri": "https://localhost:8080/",
          "height": 98
        },
        "outputId": "c5264c9a-1ae3-43d1-9fcf-dfe1501cdf33"
      },
      "source": [
        "!ls '/content/gdrive/My Drive/COT_DATA/'"
      ],
      "execution_count": null,
      "outputs": [
        {
          "output_type": "stream",
          "text": [
            "annual_0.txt   annual_14.txt  annual_19.txt  annual_4.txt  annual_9.txt\n",
            "annual_10.txt  annual_15.txt  annual_1.txt   annual_5.txt\n",
            "annual_11.txt  annual_16.txt  annual_20.txt  annual_6.txt\n",
            "annual_12.txt  annual_17.txt  annual_2.txt   annual_7.txt\n",
            "annual_13.txt  annual_18.txt  annual_3.txt   annual_8.txt\n"
          ],
          "name": "stdout"
        }
      ]
    },
    {
      "cell_type": "code",
      "metadata": {
        "id": "kEOO4KaOkoRw",
        "colab_type": "code",
        "colab": {
          "base_uri": "https://localhost:8080/",
          "height": 50
        },
        "outputId": "34d601ba-7fc8-4c23-89e0-6412d77c6c67"
      },
      "source": [
        "# store the data into a data frame\n",
        "# df = pd.read_csv('/content/gdrive/My Drive/COT_DATA/annual_20.txt')\n",
        "# change working directory-\n",
        "chdir('/content/gdrive/My Drive/COT_DATA')\n",
        "#cwd = os.getcwd()  # Get the current working directory (cwd)\n",
        "#files = os.listdir(cwd)  # Get all the files in that directory\n",
        "#print(\"Files in %r: %s\" % (cwd, files))\n",
        "\n",
        "# Read all the files into one data frame\n",
        "filepaths = [f for f in listdir('/content/gdrive/My Drive/COT_DATA/') if f.endswith('.txt')]\n",
        "df = pd.concat(map(pd.read_csv, filepaths))"
      ],
      "execution_count": null,
      "outputs": [
        {
          "output_type": "stream",
          "text": [
            "/usr/local/lib/python3.6/dist-packages/IPython/core/interactiveshell.py:2882: DtypeWarning: Columns (3,37,38,39,40,41,42,43,44,45,46,126) have mixed types.Specify dtype option on import or set low_memory=False.\n",
            "  exec(code_obj, self.user_global_ns, self.user_ns)\n"
          ],
          "name": "stderr"
        }
      ]
    },
    {
      "cell_type": "code",
      "metadata": {
        "id": "Qs91ihnsvVcP",
        "colab_type": "code",
        "colab": {
          "base_uri": "https://localhost:8080/",
          "height": 33
        },
        "outputId": "6603218a-b40b-4087-97d6-d2ce998d6860"
      },
      "source": [
        "df.shape"
      ],
      "execution_count": null,
      "outputs": [
        {
          "output_type": "execute_result",
          "data": {
            "text/plain": [
              "(155771, 130)"
            ]
          },
          "metadata": {
            "tags": []
          },
          "execution_count": 55
        }
      ]
    },
    {
      "cell_type": "code",
      "metadata": {
        "id": "xfMuDyCLg7Zb",
        "colab_type": "code",
        "colab": {}
      },
      "source": [
        "# write data frame to google drive\n",
        "#df.to_csv('data.csv')\n",
        "from google.colab import files\n",
        "files.download(\"data.csv\")\n",
        "#!cp data.csv '/content/gdrive/My Drive/COT_DATA'"
      ],
      "execution_count": null,
      "outputs": []
    },
    {
      "cell_type": "code",
      "metadata": {
        "id": "iUNVFv8pXaXP",
        "colab_type": "code",
        "colab": {}
      },
      "source": [
        "# create a new column \n",
        "# df['Discounted_Price'] = df['Cost'] - (0.1 * df['Cost'])"
      ],
      "execution_count": null,
      "outputs": []
    },
    {
      "cell_type": "code",
      "metadata": {
        "id": "KoTkl5CXi_K8",
        "colab_type": "code",
        "colab": {}
      },
      "source": [
        "#df = df[['Market and Exchange Names','As of Date in Form YYMMDD','As of Date in Form YYYY-MM-DD','Noncommercial Positions-Long (All)','Noncommercial Positions-Short (All)','Change in Noncommercial-Long (All)','Change in Noncommercial-Short (All)','Pct_of_OI_NonComm_Long_All','Pct_of_OI_NonComm_Short_All']]\n",
        "df.head(120)"
      ],
      "execution_count": null,
      "outputs": []
    },
    {
      "cell_type": "code",
      "metadata": {
        "id": "-1WfVWV7eo9W",
        "colab_type": "code",
        "colab": {}
      },
      "source": [
        "# sort data by \n",
        "df = df.sort_values(['Market and Exchange Names','As of Date in Form YYMMDD'])"
      ],
      "execution_count": null,
      "outputs": []
    },
    {
      "cell_type": "code",
      "metadata": {
        "id": "NbRU6SlevvPn",
        "colab_type": "code",
        "colab": {}
      },
      "source": [
        "plt.figure(figsize=(16,8))\n",
        "plt.title('COT DATA')\n",
        "plt.xlabel('weeks')\n",
        "plt.ylabel('some var')\n",
        "plt.plot(df['Open Interest (All)'])\n",
        "plt.show()"
      ],
      "execution_count": null,
      "outputs": []
    }
  ]
}